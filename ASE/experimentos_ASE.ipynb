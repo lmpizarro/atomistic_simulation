{
 "cells": [
  {
   "cell_type": "code",
   "execution_count": 31,
   "metadata": {
    "collapsed": true
   },
   "outputs": [],
   "source": [
    "import os\n",
    "import sys\n",
    "\n",
    "pwd = os.getcwd()\n",
    "mylibs = pwd + \"/libs\"\n",
    "sys.path.append(mylibs)\n",
    "\n",
    "\n",
    "import lj_mc as LJ\n",
    "import paramCorrida as PC\n",
    "import paramMezcla as PM\n",
    "import cubic as CB\n",
    "import numpy as np\n",
    "\n",
    "\n",
    "# referencia para ver formatos de impresión de arrays\n",
    "# http://stackoverflow.com/questions/2891790/pretty-printing-of-numpy-array\n",
    "# para setear la precisión de la salida\n",
    "np.set_printoptions(precision=3)\n",
    "# para suprimir el uso de notación científica \n",
    "# en números pequeños\n",
    "np.set_printoptions(suppress=True)"
   ]
  },
  {
   "cell_type": "code",
   "execution_count": 1,
   "metadata": {
    "collapsed": true
   },
   "outputs": [],
   "source": [
    "from ase import Atoms"
   ]
  },
  {
   "cell_type": "code",
   "execution_count": 176,
   "metadata": {
    "collapsed": false
   },
   "outputs": [
    {
     "name": "stdout",
     "output_type": "stream",
     "text": [
      "1\n",
      "[[ 0.  0.  0.]]\n",
      "['0.00', '0.00', '0.00']\n",
      "Número atómico: 18 Símbolo: Ar Masa: 39.948000\n",
      "4.05 4 4 4 fcc\n"
     ]
    },
    {
     "data": {
      "text/plain": [
       "array([[ 0.,  0., -0.]])"
      ]
     },
     "execution_count": 176,
     "metadata": {},
     "output_type": "execute_result"
    }
   ],
   "source": [
    "atoms = Atoms('Ar4', [(0, 0, 0),\n",
    "                      (0.45, 0, 0),\n",
    "                     (0, 0.5, 0),\n",
    "                     (0.5, 0.5, 0)])\n",
    "\n",
    "\n",
    "a = 4.05  # Gold lattice constant\n",
    "b = a / 2\n",
    "atoms = Atoms('Ar',\n",
    "             cell=[(0, b, b), (b, 0, b), (b, b, 0)],\n",
    "             pbc=True)\n",
    "\n",
    "print len(atoms)\n",
    "print (atoms.get_positions())\n",
    "\n",
    "\n",
    "for a in atoms:\n",
    "    pos = ['{:.2f}'.format(i) for i in a.position]\n",
    "    print pos\n",
    "    print ('Número atómico: %d Símbolo: %s Masa: %f') % (a.number, a.symbol, a.mass)\n",
    "    \n",
    "\n",
    "\n",
    "print p_red, nx, ny, nz, tipo\n",
    "atoms.get_scaled_positions()"
   ]
  },
  {
   "cell_type": "code",
   "execution_count": 183,
   "metadata": {
    "collapsed": false
   },
   "outputs": [
    {
     "data": {
      "text/plain": [
       "Atoms(symbols='He', positions=..., cell=[1.0, 1.0, 1.0], pbc=[False, False, False])"
      ]
     },
     "execution_count": 183,
     "metadata": {},
     "output_type": "execute_result"
    }
   ],
   "source": [
    "from ase import Atom\n",
    "atoms = Atoms()\n",
    "a = Atom('He')\n",
    "a.position =[1,1,1]\n",
    "atoms.append(a)\n",
    "atoms"
   ]
  },
  {
   "cell_type": "code",
   "execution_count": 155,
   "metadata": {
    "collapsed": false
   },
   "outputs": [
    {
     "name": "stdout",
     "output_type": "stream",
     "text": [
      "4.05 4 4 4 fcc\n"
     ]
    }
   ],
   "source": [
    "from ase.lattice.cubic import FaceCenteredCubic as fc\n",
    "\n",
    "atoms = fc(size=(4,4,4), symbol=\"Al\", pbc=[False, True, True], latticeconstant=2.0)\n",
    "\n"
   ]
  },
  {
   "cell_type": "code",
   "execution_count": 109,
   "metadata": {
    "collapsed": false
   },
   "outputs": [
    {
     "name": "stdout",
     "output_type": "stream",
     "text": [
      "[False  True  True]\n",
      "['0.00', '0.00', '0.00']\n",
      "Número atómico: 29 Símbolo: Cu Masa: 63.546000\n",
      "['0.50', '0.50', '0.00']\n",
      "Número atómico: 29 Símbolo: Cu Masa: 63.546000\n",
      "['0.50', '0.00', '0.50']\n",
      "Número atómico: 29 Símbolo: Cu Masa: 63.546000\n",
      "['0.00', '0.50', '0.50']\n",
      "Número atómico: 29 Símbolo: Cu Masa: 63.546000\n",
      "['1.00', '0.00', '0.00']\n",
      "Número atómico: 29 Símbolo: Cu Masa: 63.546000\n",
      "['1.50', '0.50', '0.00']\n",
      "Número atómico: 29 Símbolo: Cu Masa: 63.546000\n",
      "['1.50', '0.00', '0.50']\n",
      "Número atómico: 29 Símbolo: Cu Masa: 63.546000\n",
      "['1.00', '0.50', '0.50']\n",
      "Número atómico: 29 Símbolo: Cu Masa: 63.546000\n",
      "['2.00', '0.00', '0.00']\n",
      "Número atómico: 29 Símbolo: Cu Masa: 63.546000\n",
      "['2.50', '0.50', '0.00']\n",
      "Número atómico: 29 Símbolo: Cu Masa: 63.546000\n",
      "['2.50', '0.00', '0.50']\n",
      "Número atómico: 29 Símbolo: Cu Masa: 63.546000\n",
      "['2.00', '0.50', '0.50']\n",
      "Número atómico: 29 Símbolo: Cu Masa: 63.546000\n",
      "['0.00', '1.00', '0.00']\n",
      "Número atómico: 29 Símbolo: Cu Masa: 63.546000\n",
      "['0.50', '1.50', '0.00']\n",
      "Número atómico: 29 Símbolo: Cu Masa: 63.546000\n",
      "['0.50', '1.00', '0.50']\n",
      "Número atómico: 29 Símbolo: Cu Masa: 63.546000\n",
      "['0.00', '1.50', '0.50']\n",
      "Número atómico: 29 Símbolo: Cu Masa: 63.546000\n",
      "['1.00', '1.00', '0.00']\n",
      "Número atómico: 29 Símbolo: Cu Masa: 63.546000\n",
      "['1.50', '1.50', '0.00']\n",
      "Número atómico: 29 Símbolo: Cu Masa: 63.546000\n",
      "['1.50', '1.00', '0.50']\n",
      "Número atómico: 29 Símbolo: Cu Masa: 63.546000\n",
      "['1.00', '1.50', '0.50']\n",
      "Número atómico: 29 Símbolo: Cu Masa: 63.546000\n",
      "['2.00', '1.00', '0.00']\n",
      "Número atómico: 29 Símbolo: Cu Masa: 63.546000\n",
      "['2.50', '1.50', '0.00']\n",
      "Número atómico: 29 Símbolo: Cu Masa: 63.546000\n",
      "['2.50', '1.00', '0.50']\n",
      "Número atómico: 29 Símbolo: Cu Masa: 63.546000\n",
      "['2.00', '1.50', '0.50']\n",
      "Número atómico: 29 Símbolo: Cu Masa: 63.546000\n",
      "['0.00', '2.00', '0.00']\n",
      "Número atómico: 29 Símbolo: Cu Masa: 63.546000\n",
      "['0.50', '2.50', '0.00']\n",
      "Número atómico: 29 Símbolo: Cu Masa: 63.546000\n",
      "['0.50', '2.00', '0.50']\n",
      "Número atómico: 29 Símbolo: Cu Masa: 63.546000\n",
      "['0.00', '2.50', '0.50']\n",
      "Número atómico: 29 Símbolo: Cu Masa: 63.546000\n",
      "['1.00', '2.00', '0.00']\n",
      "Número atómico: 29 Símbolo: Cu Masa: 63.546000\n",
      "['1.50', '2.50', '0.00']\n",
      "Número atómico: 29 Símbolo: Cu Masa: 63.546000\n",
      "['1.50', '2.00', '0.50']\n",
      "Número atómico: 29 Símbolo: Cu Masa: 63.546000\n",
      "['1.00', '2.50', '0.50']\n",
      "Número atómico: 29 Símbolo: Cu Masa: 63.546000\n",
      "['2.00', '2.00', '0.00']\n",
      "Número atómico: 29 Símbolo: Cu Masa: 63.546000\n",
      "['2.50', '2.50', '0.00']\n",
      "Número atómico: 29 Símbolo: Cu Masa: 63.546000\n",
      "['2.50', '2.00', '0.50']\n",
      "Número atómico: 29 Símbolo: Cu Masa: 63.546000\n",
      "['2.00', '2.50', '0.50']\n",
      "Número atómico: 29 Símbolo: Cu Masa: 63.546000\n",
      "['0.00', '0.00', '1.00']\n",
      "Número atómico: 29 Símbolo: Cu Masa: 63.546000\n",
      "['0.50', '0.50', '1.00']\n",
      "Número atómico: 29 Símbolo: Cu Masa: 63.546000\n",
      "['0.50', '0.00', '1.50']\n",
      "Número atómico: 29 Símbolo: Cu Masa: 63.546000\n",
      "['0.00', '0.50', '1.50']\n",
      "Número atómico: 29 Símbolo: Cu Masa: 63.546000\n",
      "['1.00', '0.00', '1.00']\n",
      "Número atómico: 29 Símbolo: Cu Masa: 63.546000\n",
      "['1.50', '0.50', '1.00']\n",
      "Número atómico: 29 Símbolo: Cu Masa: 63.546000\n",
      "['1.50', '0.00', '1.50']\n",
      "Número atómico: 29 Símbolo: Cu Masa: 63.546000\n",
      "['1.00', '0.50', '1.50']\n",
      "Número atómico: 29 Símbolo: Cu Masa: 63.546000\n",
      "['2.00', '0.00', '1.00']\n",
      "Número atómico: 29 Símbolo: Cu Masa: 63.546000\n",
      "['2.50', '0.50', '1.00']\n",
      "Número atómico: 29 Símbolo: Cu Masa: 63.546000\n",
      "['2.50', '0.00', '1.50']\n",
      "Número atómico: 29 Símbolo: Cu Masa: 63.546000\n",
      "['2.00', '0.50', '1.50']\n",
      "Número atómico: 29 Símbolo: Cu Masa: 63.546000\n",
      "['0.00', '1.00', '1.00']\n",
      "Número atómico: 29 Símbolo: Cu Masa: 63.546000\n",
      "['0.50', '1.50', '1.00']\n",
      "Número atómico: 29 Símbolo: Cu Masa: 63.546000\n",
      "['0.50', '1.00', '1.50']\n",
      "Número atómico: 29 Símbolo: Cu Masa: 63.546000\n",
      "['0.00', '1.50', '1.50']\n",
      "Número atómico: 29 Símbolo: Cu Masa: 63.546000\n",
      "['1.00', '1.00', '1.00']\n",
      "Número atómico: 29 Símbolo: Cu Masa: 63.546000\n",
      "['1.50', '1.50', '1.00']\n",
      "Número atómico: 29 Símbolo: Cu Masa: 63.546000\n",
      "['1.50', '1.00', '1.50']\n",
      "Número atómico: 29 Símbolo: Cu Masa: 63.546000\n",
      "['1.00', '1.50', '1.50']\n",
      "Número atómico: 29 Símbolo: Cu Masa: 63.546000\n",
      "['2.00', '1.00', '1.00']\n",
      "Número atómico: 29 Símbolo: Cu Masa: 63.546000\n",
      "['2.50', '1.50', '1.00']\n",
      "Número atómico: 29 Símbolo: Cu Masa: 63.546000\n",
      "['2.50', '1.00', '1.50']\n",
      "Número atómico: 29 Símbolo: Cu Masa: 63.546000\n",
      "['2.00', '1.50', '1.50']\n",
      "Número atómico: 29 Símbolo: Cu Masa: 63.546000\n",
      "['0.00', '2.00', '1.00']\n",
      "Número atómico: 29 Símbolo: Cu Masa: 63.546000\n",
      "['0.50', '2.50', '1.00']\n",
      "Número atómico: 29 Símbolo: Cu Masa: 63.546000\n",
      "['0.50', '2.00', '1.50']\n",
      "Número atómico: 29 Símbolo: Cu Masa: 63.546000\n",
      "['0.00', '2.50', '1.50']\n",
      "Número atómico: 29 Símbolo: Cu Masa: 63.546000\n",
      "['1.00', '2.00', '1.00']\n",
      "Número atómico: 29 Símbolo: Cu Masa: 63.546000\n",
      "['1.50', '2.50', '1.00']\n",
      "Número atómico: 29 Símbolo: Cu Masa: 63.546000\n",
      "['1.50', '2.00', '1.50']\n",
      "Número atómico: 29 Símbolo: Cu Masa: 63.546000\n",
      "['1.00', '2.50', '1.50']\n",
      "Número atómico: 29 Símbolo: Cu Masa: 63.546000\n",
      "['2.00', '2.00', '1.00']\n",
      "Número atómico: 29 Símbolo: Cu Masa: 63.546000\n",
      "['2.50', '2.50', '1.00']\n",
      "Número atómico: 29 Símbolo: Cu Masa: 63.546000\n",
      "['2.50', '2.00', '1.50']\n",
      "Número atómico: 29 Símbolo: Cu Masa: 63.546000\n",
      "['2.00', '2.50', '1.50']\n",
      "Número atómico: 29 Símbolo: Cu Masa: 63.546000\n",
      "['0.00', '0.00', '2.00']\n",
      "Número atómico: 29 Símbolo: Cu Masa: 63.546000\n",
      "['0.50', '0.50', '2.00']\n",
      "Número atómico: 29 Símbolo: Cu Masa: 63.546000\n",
      "['0.50', '0.00', '2.50']\n",
      "Número atómico: 29 Símbolo: Cu Masa: 63.546000\n",
      "['0.00', '0.50', '2.50']\n",
      "Número atómico: 29 Símbolo: Cu Masa: 63.546000\n",
      "['1.00', '0.00', '2.00']\n",
      "Número atómico: 29 Símbolo: Cu Masa: 63.546000\n",
      "['1.50', '0.50', '2.00']\n",
      "Número atómico: 29 Símbolo: Cu Masa: 63.546000\n",
      "['1.50', '0.00', '2.50']\n",
      "Número atómico: 29 Símbolo: Cu Masa: 63.546000\n",
      "['1.00', '0.50', '2.50']\n",
      "Número atómico: 29 Símbolo: Cu Masa: 63.546000\n",
      "['2.00', '0.00', '2.00']\n",
      "Número atómico: 29 Símbolo: Cu Masa: 63.546000\n",
      "['2.50', '0.50', '2.00']\n",
      "Número atómico: 29 Símbolo: Cu Masa: 63.546000\n",
      "['2.50', '0.00', '2.50']\n",
      "Número atómico: 29 Símbolo: Cu Masa: 63.546000\n",
      "['2.00', '0.50', '2.50']\n",
      "Número atómico: 29 Símbolo: Cu Masa: 63.546000\n",
      "['0.00', '1.00', '2.00']\n",
      "Número atómico: 29 Símbolo: Cu Masa: 63.546000\n",
      "['0.50', '1.50', '2.00']\n",
      "Número atómico: 29 Símbolo: Cu Masa: 63.546000\n",
      "['0.50', '1.00', '2.50']\n",
      "Número atómico: 29 Símbolo: Cu Masa: 63.546000\n",
      "['0.00', '1.50', '2.50']\n",
      "Número atómico: 29 Símbolo: Cu Masa: 63.546000\n",
      "['1.00', '1.00', '2.00']\n",
      "Número atómico: 29 Símbolo: Cu Masa: 63.546000\n",
      "['1.50', '1.50', '2.00']\n",
      "Número atómico: 29 Símbolo: Cu Masa: 63.546000\n",
      "['1.50', '1.00', '2.50']\n",
      "Número atómico: 29 Símbolo: Cu Masa: 63.546000\n",
      "['1.00', '1.50', '2.50']\n",
      "Número atómico: 29 Símbolo: Cu Masa: 63.546000\n",
      "['2.00', '1.00', '2.00']\n",
      "Número atómico: 29 Símbolo: Cu Masa: 63.546000\n",
      "['2.50', '1.50', '2.00']\n",
      "Número atómico: 29 Símbolo: Cu Masa: 63.546000\n",
      "['2.50', '1.00', '2.50']\n",
      "Número atómico: 29 Símbolo: Cu Masa: 63.546000\n",
      "['2.00', '1.50', '2.50']\n",
      "Número atómico: 29 Símbolo: Cu Masa: 63.546000\n",
      "['0.00', '2.00', '2.00']\n",
      "Número atómico: 29 Símbolo: Cu Masa: 63.546000\n",
      "['0.50', '2.50', '2.00']\n",
      "Número atómico: 29 Símbolo: Cu Masa: 63.546000\n",
      "['0.50', '2.00', '2.50']\n",
      "Número atómico: 29 Símbolo: Cu Masa: 63.546000\n",
      "['0.00', '2.50', '2.50']\n",
      "Número atómico: 29 Símbolo: Cu Masa: 63.546000\n",
      "['1.00', '2.00', '2.00']\n",
      "Número atómico: 29 Símbolo: Cu Masa: 63.546000\n",
      "['1.50', '2.50', '2.00']\n",
      "Número atómico: 29 Símbolo: Cu Masa: 63.546000\n",
      "['1.50', '2.00', '2.50']\n",
      "Número atómico: 29 Símbolo: Cu Masa: 63.546000\n",
      "['1.00', '2.50', '2.50']\n",
      "Número atómico: 29 Símbolo: Cu Masa: 63.546000\n",
      "['2.00', '2.00', '2.00']\n",
      "Número atómico: 29 Símbolo: Cu Masa: 63.546000\n",
      "['2.50', '2.50', '2.00']\n",
      "Número atómico: 29 Símbolo: Cu Masa: 63.546000\n",
      "['2.50', '2.00', '2.50']\n",
      "Número atómico: 29 Símbolo: Cu Masa: 63.546000\n",
      "['2.00', '2.50', '2.50']\n",
      "Número atómico: 29 Símbolo: Cu Masa: 63.546000\n"
     ]
    }
   ],
   "source": [
    "pbc = atoms.get_pbc()\n",
    "print ('%s')%(str(pbc))\n",
    "for a in atoms:\n",
    "    pos = ['{:.2f}'.format(i) for i in a.position]\n",
    "    print pos\n",
    "    print ('Número atómico: %d Símbolo: %s Masa: %f') % (a.number, a.symbol, a.mass)"
   ]
  },
  {
   "cell_type": "code",
   "execution_count": 110,
   "metadata": {
    "collapsed": false
   },
   "outputs": [],
   "source": [
    "a = atoms[0]"
   ]
  },
  {
   "cell_type": "code",
   "execution_count": 111,
   "metadata": {
    "collapsed": false
   },
   "outputs": [],
   "source": [
    "a.symbol = 'He'"
   ]
  },
  {
   "cell_type": "code",
   "execution_count": 112,
   "metadata": {
    "collapsed": false
   },
   "outputs": [
    {
     "data": {
      "text/plain": [
       "Atom('He', [0.0, 0.0, 0.0], index=0)"
      ]
     },
     "execution_count": 112,
     "metadata": {},
     "output_type": "execute_result"
    }
   ],
   "source": [
    "a"
   ]
  },
  {
   "cell_type": "code",
   "execution_count": 113,
   "metadata": {
    "collapsed": false
   },
   "outputs": [
    {
     "name": "stdout",
     "output_type": "stream",
     "text": [
      "Cu\n",
      "He\n"
     ]
    }
   ],
   "source": [
    "all_symbols = atoms.get_chemical_symbols()\n",
    "type(symbols)\n",
    "symbols = set(all_symbols)\n",
    "for s in symbols:\n",
    "    print s"
   ]
  },
  {
   "cell_type": "code",
   "execution_count": 115,
   "metadata": {
    "collapsed": false
   },
   "outputs": [
    {
     "name": "stdout",
     "output_type": "stream",
     "text": [
      "0 ['0.00', '0.00', '0.00'] He\n",
      "4 ['1.00', '0.00', '0.00'] Cu\n",
      "8 ['2.00', '0.00', '0.00'] Cu\n",
      "12 ['0.00', '1.00', '0.00'] Cu\n",
      "16 ['1.00', '1.00', '0.00'] Cu\n",
      "20 ['2.00', '1.00', '0.00'] Cu\n",
      "24 ['0.00', '2.00', '0.00'] Cu\n",
      "28 ['1.00', '2.00', '0.00'] Cu\n",
      "32 ['2.00', '2.00', '0.00'] Cu\n",
      "36 ['0.00', '0.00', '1.00'] Cu\n",
      "40 ['1.00', '0.00', '1.00'] Cu\n",
      "44 ['2.00', '0.00', '1.00'] Cu\n",
      "48 ['0.00', '1.00', '1.00'] Cu\n",
      "52 ['1.00', '1.00', '1.00'] Cu\n",
      "56 ['2.00', '1.00', '1.00'] Cu\n",
      "60 ['0.00', '2.00', '1.00'] Cu\n",
      "64 ['1.00', '2.00', '1.00'] Cu\n",
      "68 ['2.00', '2.00', '1.00'] Cu\n",
      "72 ['0.00', '0.00', '2.00'] Cu\n",
      "76 ['1.00', '0.00', '2.00'] Cu\n",
      "80 ['2.00', '0.00', '2.00'] Cu\n",
      "84 ['0.00', '1.00', '2.00'] Cu\n",
      "88 ['1.00', '1.00', '2.00'] Cu\n",
      "92 ['2.00', '1.00', '2.00'] Cu\n",
      "96 ['0.00', '2.00', '2.00'] Cu\n",
      "100 ['1.00', '2.00', '2.00'] Cu\n",
      "104 ['2.00', '2.00', '2.00'] Cu\n"
     ]
    }
   ],
   "source": [
    "for j,a in enumerate(atoms):\n",
    "    pos = ['{:.2f}'.format(i) for i in a.position]\n",
    "    if j%4 == 0:\n",
    "        print j, pos, a.symbol"
   ]
  },
  {
   "cell_type": "code",
   "execution_count": 96,
   "metadata": {
    "collapsed": false
   },
   "outputs": [
    {
     "data": {
      "text/plain": [
       "Atom('Cu', [2.0, 2.5, 2.5], index=107)"
      ]
     },
     "execution_count": 96,
     "metadata": {},
     "output_type": "execute_result"
    }
   ],
   "source": [
    "a"
   ]
  },
  {
   "cell_type": "code",
   "execution_count": 116,
   "metadata": {
    "collapsed": false
   },
   "outputs": [],
   "source": [
    "import copy\n",
    "p_o = copy.copy(a.position)"
   ]
  },
  {
   "cell_type": "code",
   "execution_count": 117,
   "metadata": {
    "collapsed": false
   },
   "outputs": [],
   "source": [
    "a.position = [0,0,0]"
   ]
  },
  {
   "cell_type": "code",
   "execution_count": 118,
   "metadata": {
    "collapsed": false
   },
   "outputs": [
    {
     "data": {
      "text/plain": [
       "Atom('Cu', [0.0, 0.0, 0.0], index=107)"
      ]
     },
     "execution_count": 118,
     "metadata": {},
     "output_type": "execute_result"
    }
   ],
   "source": [
    "a"
   ]
  },
  {
   "cell_type": "code",
   "execution_count": 119,
   "metadata": {
    "collapsed": true
   },
   "outputs": [],
   "source": [
    "a.position = p_o"
   ]
  },
  {
   "cell_type": "code",
   "execution_count": 120,
   "metadata": {
    "collapsed": false
   },
   "outputs": [
    {
     "data": {
      "text/plain": [
       "Atom('Cu', [2.0, 2.5, 2.5], index=107)"
      ]
     },
     "execution_count": 120,
     "metadata": {},
     "output_type": "execute_result"
    }
   ],
   "source": [
    "a"
   ]
  },
  {
   "cell_type": "code",
   "execution_count": 148,
   "metadata": {
    "collapsed": false
   },
   "outputs": [],
   "source": [
    "nxnynz = fc.size\n",
    "p_red = fc.get_lattice_constant()\n",
    "nx = nxnynz[0]\n",
    "ny = nxnynz[1]\n",
    "nz = nxnynz[2]\n",
    "tipo = fc.xtal_name\n"
   ]
  },
  {
   "cell_type": "code",
   "execution_count": 149,
   "metadata": {
    "collapsed": false
   },
   "outputs": [
    {
     "name": "stdout",
     "output_type": "stream",
     "text": [
      "3.61 4 4 4 fcc\n"
     ]
    }
   ],
   "source": []
  },
  {
   "cell_type": "code",
   "execution_count": 131,
   "metadata": {
    "collapsed": false
   },
   "outputs": [
    {
     "data": {
      "text/plain": [
       "ase.lattice.bravais.Lattice"
      ]
     },
     "execution_count": 131,
     "metadata": {},
     "output_type": "execute_result"
    }
   ],
   "source": [
    "type(atoms)"
   ]
  },
  {
   "cell_type": "code",
   "execution_count": 132,
   "metadata": {
    "collapsed": false
   },
   "outputs": [
    {
     "data": {
      "text/plain": [
       "instance"
      ]
     },
     "execution_count": 132,
     "metadata": {},
     "output_type": "execute_result"
    }
   ],
   "source": [
    "type(fc)"
   ]
  },
  {
   "cell_type": "code",
   "execution_count": 167,
   "metadata": {
    "collapsed": false
   },
   "outputs": [],
   "source": [
    "fcc = CB.Cubic(2.0, nx=4, ny=4, nz=4, tipo=\"fcc\")"
   ]
  },
  {
   "cell_type": "code",
   "execution_count": 170,
   "metadata": {
    "collapsed": false
   },
   "outputs": [],
   "source": [
    "import ase.data as ad"
   ]
  },
  {
   "cell_type": "code",
   "execution_count": 171,
   "metadata": {
    "collapsed": false
   },
   "outputs": [
    {
     "data": {
      "text/plain": [
       "['X',\n",
       " 'H',\n",
       " 'He',\n",
       " 'Li',\n",
       " 'Be',\n",
       " 'B',\n",
       " 'C',\n",
       " 'N',\n",
       " 'O',\n",
       " 'F',\n",
       " 'Ne',\n",
       " 'Na',\n",
       " 'Mg',\n",
       " 'Al',\n",
       " 'Si',\n",
       " 'P',\n",
       " 'S',\n",
       " 'Cl',\n",
       " 'Ar',\n",
       " 'K',\n",
       " 'Ca',\n",
       " 'Sc',\n",
       " 'Ti',\n",
       " 'V',\n",
       " 'Cr',\n",
       " 'Mn',\n",
       " 'Fe',\n",
       " 'Co',\n",
       " 'Ni',\n",
       " 'Cu',\n",
       " 'Zn',\n",
       " 'Ga',\n",
       " 'Ge',\n",
       " 'As',\n",
       " 'Se',\n",
       " 'Br',\n",
       " 'Kr',\n",
       " 'Rb',\n",
       " 'Sr',\n",
       " 'Y',\n",
       " 'Zr',\n",
       " 'Nb',\n",
       " 'Mo',\n",
       " 'Tc',\n",
       " 'Ru',\n",
       " 'Rh',\n",
       " 'Pd',\n",
       " 'Ag',\n",
       " 'Cd',\n",
       " 'In',\n",
       " 'Sn',\n",
       " 'Sb',\n",
       " 'Te',\n",
       " 'I',\n",
       " 'Xe',\n",
       " 'Cs',\n",
       " 'Ba',\n",
       " 'La',\n",
       " 'Ce',\n",
       " 'Pr',\n",
       " 'Nd',\n",
       " 'Pm',\n",
       " 'Sm',\n",
       " 'Eu',\n",
       " 'Gd',\n",
       " 'Tb',\n",
       " 'Dy',\n",
       " 'Ho',\n",
       " 'Er',\n",
       " 'Tm',\n",
       " 'Yb',\n",
       " 'Lu',\n",
       " 'Hf',\n",
       " 'Ta',\n",
       " 'W',\n",
       " 'Re',\n",
       " 'Os',\n",
       " 'Ir',\n",
       " 'Pt',\n",
       " 'Au',\n",
       " 'Hg',\n",
       " 'Tl',\n",
       " 'Pb',\n",
       " 'Bi',\n",
       " 'Po',\n",
       " 'At',\n",
       " 'Rn',\n",
       " 'Fr',\n",
       " 'Ra',\n",
       " 'Ac',\n",
       " 'Th',\n",
       " 'Pa',\n",
       " 'U',\n",
       " 'Np',\n",
       " 'Pu',\n",
       " 'Am',\n",
       " 'Cm',\n",
       " 'Bk',\n",
       " 'Cf',\n",
       " 'Es',\n",
       " 'Fm',\n",
       " 'Md',\n",
       " 'No',\n",
       " 'Lr']"
      ]
     },
     "execution_count": 171,
     "metadata": {},
     "output_type": "execute_result"
    }
   ],
   "source": [
    "ad.chemical_symbols"
   ]
  },
  {
   "cell_type": "code",
   "execution_count": 174,
   "metadata": {
    "collapsed": false
   },
   "outputs": [
    {
     "ename": "KeyError",
     "evalue": "'Fe'",
     "output_type": "error",
     "traceback": [
      "\u001b[1;31m---------------------------------------------------------------------------\u001b[0m",
      "\u001b[1;31mKeyError\u001b[0m                                  Traceback (most recent call last)",
      "\u001b[1;32m<ipython-input-174-ddc047d44cb6>\u001b[0m in \u001b[0;36m<module>\u001b[1;34m()\u001b[0m\n\u001b[0;32m      1\u001b[0m \u001b[1;32mfrom\u001b[0m \u001b[0mase\u001b[0m\u001b[1;33m.\u001b[0m\u001b[0mdata\u001b[0m\u001b[1;33m.\u001b[0m\u001b[0mg2\u001b[0m \u001b[1;32mimport\u001b[0m \u001b[0mget_atomization_energy\u001b[0m\u001b[1;33m\u001b[0m\u001b[0m\n\u001b[1;32m----> 2\u001b[1;33m \u001b[0mget_atomization_energy\u001b[0m\u001b[1;33m(\u001b[0m\u001b[1;34m'Fe'\u001b[0m\u001b[1;33m)\u001b[0m\u001b[1;33m\u001b[0m\u001b[0m\n\u001b[0m",
      "\u001b[1;32m/opt/lmpizarro/miniconda3/envs/cairo2/lib/python2.7/site-packages/ase/data/g2_1.pyc\u001b[0m in \u001b[0;36mget_atomization_energy\u001b[1;34m(name)\u001b[0m\n\u001b[0;32m   1009\u001b[0m \u001b[1;33m\u001b[0m\u001b[0m\n\u001b[0;32m   1010\u001b[0m     \"\"\"\n\u001b[1;32m-> 1011\u001b[1;33m     \u001b[0md\u001b[0m \u001b[1;33m=\u001b[0m \u001b[0mdata\u001b[0m\u001b[1;33m[\u001b[0m\u001b[0mname\u001b[0m\u001b[1;33m]\u001b[0m\u001b[1;33m\u001b[0m\u001b[0m\n\u001b[0m\u001b[0;32m   1012\u001b[0m     \u001b[0me\u001b[0m \u001b[1;33m=\u001b[0m \u001b[0md\u001b[0m\u001b[1;33m[\u001b[0m\u001b[1;34m'enthalpy'\u001b[0m\u001b[1;33m]\u001b[0m\u001b[1;33m\u001b[0m\u001b[0m\n\u001b[0;32m   1013\u001b[0m     \u001b[0mz\u001b[0m \u001b[1;33m=\u001b[0m \u001b[0md\u001b[0m\u001b[1;33m[\u001b[0m\u001b[1;34m'ZPE'\u001b[0m\u001b[1;33m]\u001b[0m\u001b[1;33m\u001b[0m\u001b[0m\n",
      "\u001b[1;31mKeyError\u001b[0m: 'Fe'"
     ]
    }
   ],
   "source": [
    "from ase.data.g2 import get_atomization_energy\n",
    "get_atomization_energy('Fe')"
   ]
  },
  {
   "cell_type": "code",
   "execution_count": null,
   "metadata": {
    "collapsed": true
   },
   "outputs": [],
   "source": []
  }
 ],
 "metadata": {
  "kernelspec": {
   "display_name": "Python 2",
   "language": "python",
   "name": "python2"
  },
  "language_info": {
   "codemirror_mode": {
    "name": "ipython",
    "version": 2
   },
   "file_extension": ".py",
   "mimetype": "text/x-python",
   "name": "python",
   "nbconvert_exporter": "python",
   "pygments_lexer": "ipython2",
   "version": "2.7.11"
  }
 },
 "nbformat": 4,
 "nbformat_minor": 0
}
