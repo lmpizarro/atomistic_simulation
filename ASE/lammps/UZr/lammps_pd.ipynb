{
 "cells": [
  {
   "cell_type": "code",
   "execution_count": 269,
   "metadata": {
    "collapsed": false
   },
   "outputs": [],
   "source": [
    "import pandas as pd\n",
    "import numpy as np\n",
    "import matplotlib.pyplot as plt\n",
    "pd.set_option('max_columns', 50)\n",
    "%matplotlib inline\n",
    "\n",
    "#data_file = pd.read_csv('logfile.dat', delim_whitespace=True,  skiprows=range(0, 42))\n",
    "#data_file = pd.read_csv('../EquilNPT100/logfile.dat', delim_whitespace=True)\n",
    "#print data_file.columns\n",
    "\n",
    "Kb = 0.000086173324\n",
    "Cant_atomos = 8*8*8*2\n",
    "Na = 6.02e23\n",
    "\n",
    "\n",
    "dirs = ['../EquilibrationNpt', '../EquilNPT100', '../EquilNPT1000', \\\n",
    "        '../EquilNPT1200', '../EquilNPT500', '../EquilNPT750']\n",
    "\n",
    "name = '/logfile.dat'\n",
    "\n",
    "l_natoms = 0\n",
    "\n",
    "def lammps_file_dataframe(name):\n",
    "    with open (name) as f:\n",
    "        content = f.readlines()\n",
    "    total_lines = len(content)\n",
    "\n",
    "    \n",
    "    for i,line in enumerate(content):\n",
    "        if line.startswith(\"Step Press\") == True:\n",
    "           start = i\n",
    "        if line.startswith(\"Loop time\") == True:\n",
    "           end = i\n",
    "        # un parche temporario\n",
    "        if line.startswith(\"Total number\") == True:\n",
    "           l_natoms = i\n",
    "        \n",
    "    del content[end-1: total_lines]\n",
    "    del content[0:start]\n",
    " \n",
    "    cols = content[0].split()\n",
    "\n",
    "    del content[0]    \n",
    "    matrix = []\n",
    "    for l in content:\n",
    "        temp = []\n",
    "        line = l.split()\n",
    "        for e in line:\n",
    "            temp.append(float(e))\n",
    "        matrix.append(temp)\n",
    "\n",
    "    data_file = pd.DataFrame(matrix, columns=cols)\n",
    "    return (data_file)\n",
    "\n",
    "\n",
    "Nthermal = 200"
   ]
  },
  {
   "cell_type": "code",
   "execution_count": 275,
   "metadata": {
    "collapsed": false
   },
   "outputs": [
    {
     "name": "stdout",
     "output_type": "stream",
     "text": [
      "../EquilibrationNpt/logfile.dat\n",
      "../EquilNPT100/logfile.dat\n",
      "../EquilNPT1000/logfile.dat\n",
      "../EquilNPT1200/logfile.dat\n",
      "../EquilNPT500/logfile.dat\n",
      "../EquilNPT750/logfile.dat\n"
     ]
    },
    {
     "data": {
      "text/html": [
       "<div>\n",
       "<table border=\"1\" class=\"dataframe\">\n",
       "  <thead>\n",
       "    <tr style=\"text-align: right;\">\n",
       "      <th></th>\n",
       "      <th>Density</th>\n",
       "      <th>Lx</th>\n",
       "      <th>PotEng</th>\n",
       "      <th>Press</th>\n",
       "      <th>Temp</th>\n",
       "      <th>TotEng</th>\n",
       "      <th>dE</th>\n",
       "    </tr>\n",
       "  </thead>\n",
       "  <tbody>\n",
       "    <tr>\n",
       "      <th>0</th>\n",
       "      <td>12.901522</td>\n",
       "      <td>4.358026</td>\n",
       "      <td>-12542.193958</td>\n",
       "      <td>0.121381</td>\n",
       "      <td>299.659266</td>\n",
       "      <td>-12464.764684</td>\n",
       "      <td>0.000015</td>\n",
       "    </tr>\n",
       "    <tr>\n",
       "      <th>1</th>\n",
       "      <td>12.975186</td>\n",
       "      <td>3.479810</td>\n",
       "      <td>-6448.733575</td>\n",
       "      <td>4.009908</td>\n",
       "      <td>99.586891</td>\n",
       "      <td>-6435.564887</td>\n",
       "      <td>0.002664</td>\n",
       "    </tr>\n",
       "    <tr>\n",
       "      <th>2</th>\n",
       "      <td>12.619115</td>\n",
       "      <td>3.512241</td>\n",
       "      <td>-6319.554978</td>\n",
       "      <td>20.590594</td>\n",
       "      <td>1002.584114</td>\n",
       "      <td>-6186.980143</td>\n",
       "      <td>0.003164</td>\n",
       "    </tr>\n",
       "    <tr>\n",
       "      <th>3</th>\n",
       "      <td>12.532543</td>\n",
       "      <td>3.520310</td>\n",
       "      <td>-6289.097206</td>\n",
       "      <td>7.914621</td>\n",
       "      <td>1198.340654</td>\n",
       "      <td>-6130.636873</td>\n",
       "      <td>0.002806</td>\n",
       "    </tr>\n",
       "    <tr>\n",
       "      <th>4</th>\n",
       "      <td>12.825134</td>\n",
       "      <td>3.493330</td>\n",
       "      <td>-6393.595903</td>\n",
       "      <td>-0.635915</td>\n",
       "      <td>500.815193</td>\n",
       "      <td>-6327.371544</td>\n",
       "      <td>0.002725</td>\n",
       "    </tr>\n",
       "    <tr>\n",
       "      <th>5</th>\n",
       "      <td>12.724754</td>\n",
       "      <td>3.502493</td>\n",
       "      <td>-6357.230722</td>\n",
       "      <td>10.642360</td>\n",
       "      <td>752.572212</td>\n",
       "      <td>-6257.715746</td>\n",
       "      <td>0.003140</td>\n",
       "    </tr>\n",
       "  </tbody>\n",
       "</table>\n",
       "</div>"
      ],
      "text/plain": [
       "     Density        Lx        PotEng      Press         Temp        TotEng  \\\n",
       "0  12.901522  4.358026 -12542.193958   0.121381   299.659266 -12464.764684   \n",
       "1  12.975186  3.479810  -6448.733575   4.009908    99.586891  -6435.564887   \n",
       "2  12.619115  3.512241  -6319.554978  20.590594  1002.584114  -6186.980143   \n",
       "3  12.532543  3.520310  -6289.097206   7.914621  1198.340654  -6130.636873   \n",
       "4  12.825134  3.493330  -6393.595903  -0.635915   500.815193  -6327.371544   \n",
       "5  12.724754  3.502493  -6357.230722  10.642360   752.572212  -6257.715746   \n",
       "\n",
       "         dE  \n",
       "0  0.000015  \n",
       "1  0.002664  \n",
       "2  0.003164  \n",
       "3  0.002806  \n",
       "4  0.002725  \n",
       "5  0.003140  "
      ]
     },
     "execution_count": 275,
     "metadata": {},
     "output_type": "execute_result"
    }
   ],
   "source": [
    "info = []\n",
    "for d in dirs:\n",
    "   file_name = d + name\n",
    "   print file_name\n",
    "   data_file = lammps_file_dataframe(file_name)\n",
    "   count = data_file['Step'].count()\n",
    "   Nthermal = int(0.2 * count)\n",
    "\n",
    "   data_file[\"TotEng2\"] = data_file[\"TotEng\"] * data_file[\"TotEng\"]\n",
    "\n",
    "   dE = data_file[\"TotEng2\"][Nthermal:].mean() -\\\n",
    "        data_file[\"TotEng\"][Nthermal:].mean() * \\\n",
    "        data_file[\"TotEng\"][Nthermal:].mean()\n",
    "       \n",
    "   \n",
    "   dE = dE / (Kb*(Cant_atomos  ** 2))\n",
    "    \n",
    "   if data_file[\"Temp\"][Nthermal:].mean() > 290.0:\n",
    "        if data_file[\"Temp\"][Nthermal:].mean() < 310.0:\n",
    "          dE = dE / (Kb*(2000  ** 2))\n",
    "          \n",
    "\n",
    "   dE = dE / (Kb *(data_file[\"Temp\"][Nthermal:].mean()) ** 2 )\n",
    "   #dE = dE + 0.59e-5 * data_file[\"Temp\"][Nthermal:].mean() /2\n",
    "   #dE *= Na * 1.60218e-19\n",
    "   info.append({\"Temp\": data_file[\"Temp\"][Nthermal:].mean(), \\\n",
    "                \"Lx\":data_file[\"Lx\"][Nthermal:].mean()/8, \\\n",
    "                \"Density\":data_file[\"Density\"][Nthermal:].mean(), \\\n",
    "                \"PotEng\":data_file[\"PotEng\"][Nthermal:].mean(), \\\n",
    "                \"TotEng\":data_file[\"TotEng\"][Nthermal:].mean(), \\\n",
    "                \"dE\":dE, \\\n",
    "                \"Press\":data_file[\"Press\"][Nthermal:].mean()})\n",
    "\n",
    "results = pd.DataFrame(info)\n",
    "results"
   ]
  },
  {
   "cell_type": "code",
   "execution_count": 276,
   "metadata": {
    "collapsed": false
   },
   "outputs": [
    {
     "data": {
      "text/plain": [
       "[<matplotlib.lines.Line2D at 0xaa86a3ec>]"
      ]
     },
     "execution_count": 276,
     "metadata": {},
     "output_type": "execute_result"
    },
    {
     "data": {
      "image/png": "[encoded data removed]",
      "text/plain": [
       "<matplotlib.figure.Figure at 0xaa9a3ccc>"
      ]
     },
     "metadata": {},
     "output_type": "display_data"
    }
   ],
   "source": [
    " \n",
    "a=results.sort_values(by=\"Temp\", ascending=1)\n",
    "plt.plot(a[\"Temp\"], a[\"dE\"])"
   ]
  },
  {
   "cell_type": "code",
   "execution_count": 181,
   "metadata": {
    "collapsed": false
   },
   "outputs": [
    {
     "data": {
      "text/plain": [
       "[<matplotlib.lines.Line2D at 0xaca60d8c>]"
      ]
     },
     "execution_count": 181,
     "metadata": {},
     "output_type": "execute_result"
    },
    {
     "data": {
      "image/png": "[encoded data removed]",
      "text/plain": [
       "<matplotlib.figure.Figure at 0xacc1c0ac>"
      ]
     },
     "metadata": {},
     "output_type": "display_data"
    }
   ],
   "source": [
    "plt.plot(a[\"Temp\"], a[\"Lx\"])"
   ]
  },
  {
   "cell_type": "code",
   "execution_count": 182,
   "metadata": {
    "collapsed": false
   },
   "outputs": [
    {
     "data": {
      "text/plain": [
       "[<matplotlib.lines.Line2D at 0xaca3a44c>]"
      ]
     },
     "execution_count": 182,
     "metadata": {},
     "output_type": "execute_result"
    },
    {
     "data": {
      "image/png": "[encoded data removed]",
      "text/plain": [
       "<matplotlib.figure.Figure at 0xaca44b0c>"
      ]
     },
     "metadata": {},
     "output_type": "display_data"
    }
   ],
   "source": [
    "plt.plot(a[\"Temp\"], a[\"Density\"])"
   ]
  },
  {
   "cell_type": "code",
   "execution_count": 183,
   "metadata": {
    "collapsed": false
   },
   "outputs": [
    {
     "data": {
      "text/plain": [
       "[<matplotlib.lines.Line2D at 0xac9920cc>]"
      ]
     },
     "execution_count": 183,
     "metadata": {},
     "output_type": "execute_result"
    },
    {
     "data": {
      "image/png": "[encoded data removed]",
      "text/plain": [
       "<matplotlib.figure.Figure at 0xaca1f04c>"
      ]
     },
     "metadata": {},
     "output_type": "display_data"
    }
   ],
   "source": [
    "plt.plot(a[\"Temp\"], a[\"PotEng\"])"
   ]
  },
  {
   "cell_type": "code",
   "execution_count": 184,
   "metadata": {
    "collapsed": false
   },
   "outputs": [
    {
     "data": {
      "text/plain": [
       "[<matplotlib.lines.Line2D at 0xac96d1ec>]"
      ]
     },
     "execution_count": 184,
     "metadata": {},
     "output_type": "execute_result"
    },
    {
     "data": {
      "image/png": "[encoded data removed]",
      "text/plain": [
       "<matplotlib.figure.Figure at 0xac997c6c>"
      ]
     },
     "metadata": {},
     "output_type": "display_data"
    }
   ],
   "source": [
    "plt.plot(a[\"Temp\"], a[\"TotEng\"])"
   ]
  },
  {
   "cell_type": "code",
   "execution_count": 185,
   "metadata": {
    "collapsed": false
   },
   "outputs": [],
   "source": [
    "data_file = lammps_file_dataframe(file_name, 1000, 53)"
   ]
  },
  {
   "cell_type": "code",
   "execution_count": 186,
   "metadata": {
    "collapsed": false
   },
   "outputs": [
    {
     "data": {
      "text/html": [
       "<div>\n",
       "<table border=\"1\" class=\"dataframe\">\n",
       "  <thead>\n",
       "    <tr style=\"text-align: right;\">\n",
       "      <th></th>\n",
       "      <th>Step</th>\n",
       "      <th>Press</th>\n",
       "      <th>KinEng</th>\n",
       "      <th>PotEng</th>\n",
       "      <th>TotEng</th>\n",
       "      <th>Lx</th>\n",
       "      <th>Volume</th>\n",
       "      <th>Temp</th>\n",
       "      <th>Density</th>\n",
       "      <th>Fmax</th>\n",
       "      <th>Fnorm</th>\n",
       "    </tr>\n",
       "  </thead>\n",
       "  <tbody>\n",
       "    <tr>\n",
       "      <th>0</th>\n",
       "      <td>0</td>\n",
       "      <td>4926.177100</td>\n",
       "      <td>99.174846</td>\n",
       "      <td>-6461.9626</td>\n",
       "      <td>-6362.7877</td>\n",
       "      <td>27.812800</td>\n",
       "      <td>21514.643</td>\n",
       "      <td>750.00000</td>\n",
       "      <td>13.011158</td>\n",
       "      <td>2.311432e-14</td>\n",
       "      <td>4.803390e-13</td>\n",
       "    </tr>\n",
       "    <tr>\n",
       "      <th>1</th>\n",
       "      <td>100</td>\n",
       "      <td>-12304.149000</td>\n",
       "      <td>45.116743</td>\n",
       "      <td>-6408.1891</td>\n",
       "      <td>-6363.0723</td>\n",
       "      <td>28.001725</td>\n",
       "      <td>21956.058</td>\n",
       "      <td>341.19093</td>\n",
       "      <td>12.749575</td>\n",
       "      <td>2.345575e+00</td>\n",
       "      <td>2.722825e+01</td>\n",
       "    </tr>\n",
       "    <tr>\n",
       "      <th>2</th>\n",
       "      <td>200</td>\n",
       "      <td>3594.816600</td>\n",
       "      <td>56.231968</td>\n",
       "      <td>-6419.4087</td>\n",
       "      <td>-6363.1767</td>\n",
       "      <td>27.873083</td>\n",
       "      <td>21654.843</td>\n",
       "      <td>425.24872</td>\n",
       "      <td>12.926919</td>\n",
       "      <td>2.355109e+00</td>\n",
       "      <td>2.822026e+01</td>\n",
       "    </tr>\n",
       "    <tr>\n",
       "      <th>3</th>\n",
       "      <td>300</td>\n",
       "      <td>-66.907051</td>\n",
       "      <td>52.422360</td>\n",
       "      <td>-6414.6639</td>\n",
       "      <td>-6362.2415</td>\n",
       "      <td>27.909987</td>\n",
       "      <td>21740.969</td>\n",
       "      <td>396.43893</td>\n",
       "      <td>12.875710</td>\n",
       "      <td>2.525143e+00</td>\n",
       "      <td>3.060703e+01</td>\n",
       "    </tr>\n",
       "  </tbody>\n",
       "</table>\n",
       "</div>"
      ],
      "text/plain": [
       "   Step         Press     KinEng     PotEng     TotEng         Lx     Volume  \\\n",
       "0     0   4926.177100  99.174846 -6461.9626 -6362.7877  27.812800  21514.643   \n",
       "1   100 -12304.149000  45.116743 -6408.1891 -6363.0723  28.001725  21956.058   \n",
       "2   200   3594.816600  56.231968 -6419.4087 -6363.1767  27.873083  21654.843   \n",
       "3   300    -66.907051  52.422360 -6414.6639 -6362.2415  27.909987  21740.969   \n",
       "\n",
       "        Temp    Density          Fmax         Fnorm  \n",
       "0  750.00000  13.011158  2.311432e-14  4.803390e-13  \n",
       "1  341.19093  12.749575  2.345575e+00  2.722825e+01  \n",
       "2  425.24872  12.926919  2.355109e+00  2.822026e+01  \n",
       "3  396.43893  12.875710  2.525143e+00  3.060703e+01  "
      ]
     },
     "execution_count": 186,
     "metadata": {},
     "output_type": "execute_result"
    }
   ],
   "source": [
    "data_file[0:4]"
   ]
  },
  {
   "cell_type": "code",
   "execution_count": 187,
   "metadata": {
    "collapsed": false,
    "scrolled": true
   },
   "outputs": [
    {
     "data": {
      "text/html": [
       "<div>\n",
       "<table border=\"1\" class=\"dataframe\">\n",
       "  <thead>\n",
       "    <tr style=\"text-align: right;\">\n",
       "      <th></th>\n",
       "      <th>Step</th>\n",
       "      <th>Press</th>\n",
       "      <th>KinEng</th>\n",
       "      <th>PotEng</th>\n",
       "      <th>TotEng</th>\n",
       "      <th>Lx</th>\n",
       "      <th>Volume</th>\n",
       "      <th>Temp</th>\n",
       "      <th>Density</th>\n",
       "      <th>Fmax</th>\n",
       "      <th>Fnorm</th>\n",
       "    </tr>\n",
       "  </thead>\n",
       "  <tbody>\n",
       "    <tr>\n",
       "      <th>count</th>\n",
       "      <td>799.000000</td>\n",
       "      <td>799.00000</td>\n",
       "      <td>799.000000</td>\n",
       "      <td>799.000000</td>\n",
       "      <td>799.000000</td>\n",
       "      <td>799.000000</td>\n",
       "      <td>799.000000</td>\n",
       "      <td>799.000000</td>\n",
       "      <td>799.000000</td>\n",
       "      <td>799.000000</td>\n",
       "      <td>799.000000</td>\n",
       "    </tr>\n",
       "    <tr>\n",
       "      <th>mean</th>\n",
       "      <td>59900.000000</td>\n",
       "      <td>8.78708</td>\n",
       "      <td>99.514395</td>\n",
       "      <td>-6357.232075</td>\n",
       "      <td>-6257.717681</td>\n",
       "      <td>28.019956</td>\n",
       "      <td>21998.995418</td>\n",
       "      <td>752.567806</td>\n",
       "      <td>12.724736</td>\n",
       "      <td>3.111052</td>\n",
       "      <td>43.830077</td>\n",
       "    </tr>\n",
       "    <tr>\n",
       "      <th>std</th>\n",
       "      <td>23079.572497</td>\n",
       "      <td>2204.57382</td>\n",
       "      <td>2.561482</td>\n",
       "      <td>2.640011</td>\n",
       "      <td>3.725602</td>\n",
       "      <td>0.017721</td>\n",
       "      <td>41.737557</td>\n",
       "      <td>19.370952</td>\n",
       "      <td>0.024143</td>\n",
       "      <td>0.296857</td>\n",
       "      <td>0.761263</td>\n",
       "    </tr>\n",
       "    <tr>\n",
       "      <th>min</th>\n",
       "      <td>20000.000000</td>\n",
       "      <td>-7338.58280</td>\n",
       "      <td>91.413659</td>\n",
       "      <td>-6364.723200</td>\n",
       "      <td>-6266.780100</td>\n",
       "      <td>27.961505</td>\n",
       "      <td>21861.584000</td>\n",
       "      <td>691.306780</td>\n",
       "      <td>12.652050</td>\n",
       "      <td>2.421576</td>\n",
       "      <td>41.353823</td>\n",
       "    </tr>\n",
       "    <tr>\n",
       "      <th>25%</th>\n",
       "      <td>39950.000000</td>\n",
       "      <td>-1530.52490</td>\n",
       "      <td>97.791699</td>\n",
       "      <td>-6359.081700</td>\n",
       "      <td>-6260.578550</td>\n",
       "      <td>28.007717</td>\n",
       "      <td>21970.155500</td>\n",
       "      <td>739.540090</td>\n",
       "      <td>12.708371</td>\n",
       "      <td>2.886242</td>\n",
       "      <td>43.306913</td>\n",
       "    </tr>\n",
       "    <tr>\n",
       "      <th>50%</th>\n",
       "      <td>59900.000000</td>\n",
       "      <td>5.91430</td>\n",
       "      <td>99.409186</td>\n",
       "      <td>-6357.348500</td>\n",
       "      <td>-6258.283200</td>\n",
       "      <td>28.020495</td>\n",
       "      <td>22000.240000</td>\n",
       "      <td>751.772170</td>\n",
       "      <td>12.723971</td>\n",
       "      <td>3.073182</td>\n",
       "      <td>43.815069</td>\n",
       "    </tr>\n",
       "    <tr>\n",
       "      <th>75%</th>\n",
       "      <td>79850.000000</td>\n",
       "      <td>1532.61860</td>\n",
       "      <td>101.301715</td>\n",
       "      <td>-6355.331050</td>\n",
       "      <td>-6254.630900</td>\n",
       "      <td>28.031956</td>\n",
       "      <td>22027.246500</td>\n",
       "      <td>766.084205</td>\n",
       "      <td>12.741394</td>\n",
       "      <td>3.288262</td>\n",
       "      <td>44.345042</td>\n",
       "    </tr>\n",
       "    <tr>\n",
       "      <th>max</th>\n",
       "      <td>99800.000000</td>\n",
       "      <td>6740.23650</td>\n",
       "      <td>106.645020</td>\n",
       "      <td>-6348.819500</td>\n",
       "      <td>-6249.770000</td>\n",
       "      <td>28.073489</td>\n",
       "      <td>22125.301000</td>\n",
       "      <td>806.492460</td>\n",
       "      <td>12.804672</td>\n",
       "      <td>4.366371</td>\n",
       "      <td>46.401865</td>\n",
       "    </tr>\n",
       "  </tbody>\n",
       "</table>\n",
       "</div>"
      ],
      "text/plain": [
       "               Step       Press      KinEng       PotEng       TotEng  \\\n",
       "count    799.000000   799.00000  799.000000   799.000000   799.000000   \n",
       "mean   59900.000000     8.78708   99.514395 -6357.232075 -6257.717681   \n",
       "std    23079.572497  2204.57382    2.561482     2.640011     3.725602   \n",
       "min    20000.000000 -7338.58280   91.413659 -6364.723200 -6266.780100   \n",
       "25%    39950.000000 -1530.52490   97.791699 -6359.081700 -6260.578550   \n",
       "50%    59900.000000     5.91430   99.409186 -6357.348500 -6258.283200   \n",
       "75%    79850.000000  1532.61860  101.301715 -6355.331050 -6254.630900   \n",
       "max    99800.000000  6740.23650  106.645020 -6348.819500 -6249.770000   \n",
       "\n",
       "               Lx        Volume        Temp     Density        Fmax  \\\n",
       "count  799.000000    799.000000  799.000000  799.000000  799.000000   \n",
       "mean    28.019956  21998.995418  752.567806   12.724736    3.111052   \n",
       "std      0.017721     41.737557   19.370952    0.024143    0.296857   \n",
       "min     27.961505  21861.584000  691.306780   12.652050    2.421576   \n",
       "25%     28.007717  21970.155500  739.540090   12.708371    2.886242   \n",
       "50%     28.020495  22000.240000  751.772170   12.723971    3.073182   \n",
       "75%     28.031956  22027.246500  766.084205   12.741394    3.288262   \n",
       "max     28.073489  22125.301000  806.492460   12.804672    4.366371   \n",
       "\n",
       "            Fnorm  \n",
       "count  799.000000  \n",
       "mean    43.830077  \n",
       "std      0.761263  \n",
       "min     41.353823  \n",
       "25%     43.306913  \n",
       "50%     43.815069  \n",
       "75%     44.345042  \n",
       "max     46.401865  "
      ]
     },
     "execution_count": 187,
     "metadata": {},
     "output_type": "execute_result"
    }
   ],
   "source": [
    "# data_file.info, data_file.dtypes\n",
    "data_file[Nthermal:].describe()"
   ]
  },
  {
   "cell_type": "code",
   "execution_count": 188,
   "metadata": {
    "collapsed": false
   },
   "outputs": [
    {
     "name": "stdout",
     "output_type": "stream",
     "text": [
      "999\n"
     ]
    }
   ],
   "source": [
    "count = data_file['Step'].count()\n",
    "print count"
   ]
  },
  {
   "cell_type": "code",
   "execution_count": 189,
   "metadata": {
    "collapsed": false
   },
   "outputs": [
    {
     "data": {
      "text/plain": [
       "count    799.000000\n",
       "mean      28.019956\n",
       "std        0.017721\n",
       "min       27.961505\n",
       "25%       28.007717\n",
       "50%       28.020495\n",
       "75%       28.031956\n",
       "max       28.073489\n",
       "Name: Lx, dtype: float64"
      ]
     },
     "execution_count": 189,
     "metadata": {},
     "output_type": "execute_result"
    },
    {
     "data": {
      "image/png": "[encoded data removed]",
      "text/plain": [
       "<matplotlib.figure.Figure at 0xac8c29ac>"
      ]
     },
     "metadata": {},
     "output_type": "display_data"
    }
   ],
   "source": [
    "#Energia = data_file['KinEng'] + data_file['PotEng']\n",
    "temperatura = data_file['Lx']\n",
    "N =200\n",
    "\n",
    "temperatura_calculo = temperatura[N:]\n",
    "temperatura_calculo.plot()\n",
    "temperatura_calculo.describe()\n",
    "\n"
   ]
  },
  {
   "cell_type": "code",
   "execution_count": 44,
   "metadata": {
    "collapsed": false
   },
   "outputs": [
    {
     "name": "stdout",
     "output_type": "stream",
     "text": [
      "6.68497873745e-08\n"
     ]
    }
   ],
   "source": [
    "Kb = 0.000086173324\n",
    "T = 300\n",
    "Cant_atomos = 8*8*8*2\n",
    "\n",
    "Energia = (data_file['PotEng'][N:] +  data_file['TotEng'][N:]) / Cant_atomos\n",
    "Emean2 = Energia.mean() ** 2\n",
    "E2 = Energia ** 2\n",
    "DE = E2.mean() - Emean2\n",
    "\n",
    "\n",
    "print DE/(Kb*T*T)\n"
   ]
  },
  {
   "cell_type": "code",
   "execution_count": 53,
   "metadata": {
    "collapsed": true
   },
   "outputs": [],
   "source": [
    "from scipy.signal import wiener, filtfilt, butter, gaussian, freqz"
   ]
  },
  {
   "cell_type": "code",
   "execution_count": 35,
   "metadata": {
    "collapsed": false
   },
   "outputs": [
    {
     "data": {
      "text/plain": [
       "[<matplotlib.lines.Line2D at 0xad65658c>]"
      ]
     },
     "execution_count": 35,
     "metadata": {},
     "output_type": "execute_result"
    },
    {
     "data": {
      "image/png": "[encoded data removed]",
      "text/plain": [
       "<matplotlib.figure.Figure at 0xad7019ec>"
      ]
     },
     "metadata": {},
     "output_type": "display_data"
    }
   ],
   "source": [
    "b, a = butter(2, 0.2, btype=\"highpass\")\n",
    "fl = filtfilt(b, a, temperatura_calculo)\n",
    "plt.plot(fl)"
   ]
  },
  {
   "cell_type": "code",
   "execution_count": 36,
   "metadata": {
    "collapsed": false
   },
   "outputs": [
    {
     "data": {
      "text/plain": [
       "(0.0078599708538560943, 4.5611192418908697)"
      ]
     },
     "execution_count": 36,
     "metadata": {},
     "output_type": "execute_result"
    }
   ],
   "source": [
    "np.mean(fl), np.std(fl)"
   ]
  },
  {
   "cell_type": "code",
   "execution_count": null,
   "metadata": {
    "collapsed": true
   },
   "outputs": [],
   "source": []
  }
 ],
 "metadata": {
  "kernelspec": {
   "display_name": "Python 2",
   "language": "python",
   "name": "python2"
  },
  "language_info": {
   "codemirror_mode": {
    "name": "ipython",
    "version": 2
   },
   "file_extension": ".py",
   "mimetype": "text/x-python",
   "name": "python",
   "nbconvert_exporter": "python",
   "pygments_lexer": "ipython2",
   "version": "2.7.11"
  }
 },
 "nbformat": 4,
 "nbformat_minor": 0
}
